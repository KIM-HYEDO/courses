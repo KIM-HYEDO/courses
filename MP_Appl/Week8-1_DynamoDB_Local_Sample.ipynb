{
 "cells": [
  {
   "attachments": {},
   "cell_type": "markdown",
   "metadata": {},
   "source": [
    "### DynamoDB가 Local에 잘 설치되었는지 확인"
   ]
  },
  {
   "cell_type": "code",
   "execution_count": 1,
   "metadata": {},
   "outputs": [
    {
     "name": "stdout",
     "output_type": "stream",
     "text": [
      "Table status: ACTIVE\n"
     ]
    }
   ],
   "source": [
    "import boto3\n",
    "def create_table(dynamodb=None):\n",
    "\tif not dynamodb:\n",
    "\t\tdynamodb = boto3.resource('dynamodb',\n",
    "                          aws_access_key_id=\"anything\",\n",
    "                          aws_secret_access_key=\"anything\",\n",
    "                          region_name=\"us-west-2\",\n",
    "                          endpoint_url=\"http://localhost:8000\")\n",
    "\t\ttable_name = 'Test'\n",
    "\t\ttable = dynamodb.create_table(TableName=table_name,\n",
    "\t\t\tKeySchema=[\n",
    "\t\t\t{'AttributeName': 'attr1','KeyType': 'HASH' # Partition key\n",
    "\t\t\t},\n",
    "\t\t\t{'AttributeName': 'attr2','KeyType': 'RANGE' # Sort key\n",
    "\t\t\t}\n",
    "\t\t\t],\n",
    "\t\t\tAttributeDefinitions=[\n",
    "\t\t\t{'AttributeName': 'attr1','AttributeType': 'N'},\n",
    "\t\t\t{'AttributeName': 'attr2','AttributeType': 'S'}\n",
    "\t\t\t],\n",
    "\t\t\tProvisionedThroughput={'ReadCapacityUnits': 10, 'WriteCapacityUnits': 10}\n",
    "\t\t)\n",
    "\treturn table\n",
    "if __name__ == '__main__':\n",
    "\tsample_table = create_table()\n",
    "\tprint(\"Table status:\", sample_table.table_status)"
   ]
  }
 ],
 "metadata": {
  "kernelspec": {
   "display_name": "Python 3",
   "language": "python",
   "name": "python3"
  },
  "language_info": {
   "codemirror_mode": {
    "name": "ipython",
    "version": 3
   },
   "file_extension": ".py",
   "mimetype": "text/x-python",
   "name": "python",
   "nbconvert_exporter": "python",
   "pygments_lexer": "ipython3",
   "version": "3.11.2"
  },
  "orig_nbformat": 4
 },
 "nbformat": 4,
 "nbformat_minor": 2
}
