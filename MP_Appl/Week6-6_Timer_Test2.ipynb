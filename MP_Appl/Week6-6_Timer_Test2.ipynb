{
 "cells": [
  {
   "cell_type": "code",
   "execution_count": null,
   "id": "e40d4416-1d55-4c4d-adaf-4cc17f484305",
   "metadata": {
    "tags": []
   },
   "outputs": [],
   "source": [
    "import RPi.GPIO as GPIO\n",
    "import time\n",
    "from threading import Timer\n",
    "\n",
    "def infinite_LED_blink():\n",
    "    GPIO.output(5, True)\n",
    "    time.sleep(0.1)\n",
    "    GPIO.output(5, False)\n",
    "    Timer(2, infinite_LED_blink).start()\n",
    "    \n",
    "try:\n",
    "    GPIO.setmode(GPIO.BCM)\n",
    "    GPIO.setup(5, GPIO.OUT)\n",
    "    infinite_LED_blink()\n",
    "    while True:\n",
    "        pass\n",
    "finally:\n",
    "    print('cleaning up')\n",
    "    GPIO.cleanup()"
   ]
  },
  {
   "cell_type": "code",
   "execution_count": null,
   "id": "a0ed51f8-b3e1-49fc-bfa1-d284e2ac4648",
   "metadata": {},
   "outputs": [],
   "source": []
  }
 ],
 "metadata": {
  "kernelspec": {
   "display_name": "Python 3 (ipykernel)",
   "language": "python",
   "name": "python3"
  },
  "language_info": {
   "codemirror_mode": {
    "name": "ipython",
    "version": 3
   },
   "file_extension": ".py",
   "mimetype": "text/x-python",
   "name": "python",
   "nbconvert_exporter": "python",
   "pygments_lexer": "ipython3",
   "version": "3.9.2"
  }
 },
 "nbformat": 4,
 "nbformat_minor": 5
}
