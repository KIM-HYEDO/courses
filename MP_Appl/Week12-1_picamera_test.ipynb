{
 "cells": [
  {
   "cell_type": "code",
   "execution_count": 1,
   "id": "6fe0dca4-6f8d-466b-bf7f-da47de68e5af",
   "metadata": {
    "tags": []
   },
   "outputs": [],
   "source": [
    "import time\n",
    "import picamera"
   ]
  },
  {
   "cell_type": "code",
   "execution_count": 2,
   "id": "89ef81e7-0c1c-46a4-9717-e9e6817bcd99",
   "metadata": {
    "tags": []
   },
   "outputs": [],
   "source": [
    "with picamera.PiCamera() as camera:\n",
    "    camera.start_preview()\n",
    "    time.sleep(5)\n",
    "    camera.capture('/home/kb-raspi4/JupyterWorkspace/Microprocessor/Camera/image.jpg')\n",
    "    camera.stop_preview()"
   ]
  },
  {
   "cell_type": "code",
   "execution_count": null,
   "id": "d292cd46-303b-4725-b01e-a12abababcd9",
   "metadata": {},
   "outputs": [],
   "source": []
  }
 ],
 "metadata": {
  "kernelspec": {
   "display_name": "Python 3 (ipykernel)",
   "language": "python",
   "name": "python3"
  },
  "language_info": {
   "codemirror_mode": {
    "name": "ipython",
    "version": 3
   },
   "file_extension": ".py",
   "mimetype": "text/x-python",
   "name": "python",
   "nbconvert_exporter": "python",
   "pygments_lexer": "ipython3",
   "version": "3.9.2"
  }
 },
 "nbformat": 4,
 "nbformat_minor": 5
}
