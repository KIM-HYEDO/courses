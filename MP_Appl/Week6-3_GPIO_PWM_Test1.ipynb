{
 "cells": [
  {
   "cell_type": "code",
   "execution_count": null,
   "id": "4531d985-ab75-4af5-bc1b-98823286c806",
   "metadata": {
    "tags": []
   },
   "outputs": [],
   "source": [
    "import RPi.GPIO as GPIO\n",
    "import time\n",
    "\n",
    "GPIO.setmode(GPIO.BCM)\n",
    "GPIO.setup(5, GPIO.OUT)\n",
    "pwm = GPIO.PWM(5, 100)  #100Hz\n",
    "duty = 50.0\n",
    "pwm.start(duty)\n",
    "\n",
    "try:\n",
    "    while(True):\n",
    "        pass\n",
    "finally:\n",
    "    print('cleaning up')\n",
    "    GPIO.cleanup()"
   ]
  },
  {
   "cell_type": "code",
   "execution_count": null,
   "id": "b916da47-55e4-4530-aefe-853a84b2ca26",
   "metadata": {},
   "outputs": [],
   "source": []
  }
 ],
 "metadata": {
  "kernelspec": {
   "display_name": "Python 3 (ipykernel)",
   "language": "python",
   "name": "python3"
  },
  "language_info": {
   "codemirror_mode": {
    "name": "ipython",
    "version": 3
   },
   "file_extension": ".py",
   "mimetype": "text/x-python",
   "name": "python",
   "nbconvert_exporter": "python",
   "pygments_lexer": "ipython3",
   "version": "3.9.2"
  }
 },
 "nbformat": 4,
 "nbformat_minor": 5
}
