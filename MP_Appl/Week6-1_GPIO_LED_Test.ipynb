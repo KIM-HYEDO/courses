{
 "cells": [
  {
   "cell_type": "code",
   "execution_count": null,
   "id": "4531d985-ab75-4af5-bc1b-98823286c806",
   "metadata": {
    "tags": []
   },
   "outputs": [],
   "source": [
    "import RPi.GPIO as GPIO\n",
    "import time\n",
    "\n",
    "GPIO.setmode(GPIO.BCM)\n",
    "GPIO.setup(5, GPIO.OUT)\n",
    "\n",
    "try:\n",
    "    while(True):\n",
    "        GPIO.output(5, True)\n",
    "        time.sleep(1)\n",
    "        GPIO.output(5, False)\n",
    "        time.sleep(1)\n",
    "finally:\n",
    "    print('cleaning up')\n",
    "    GPIO.cleanup()\n",
    "    "
   ]
  },
  {
   "cell_type": "code",
   "execution_count": null,
   "id": "2503ed14-3ffa-4410-84d8-9bb687a8f9c8",
   "metadata": {},
   "outputs": [],
   "source": []
  }
 ],
 "metadata": {
  "kernelspec": {
   "display_name": "Python 3 (ipykernel)",
   "language": "python",
   "name": "python3"
  },
  "language_info": {
   "codemirror_mode": {
    "name": "ipython",
    "version": 3
   },
   "file_extension": ".py",
   "mimetype": "text/x-python",
   "name": "python",
   "nbconvert_exporter": "python",
   "pygments_lexer": "ipython3",
   "version": "3.9.2"
  }
 },
 "nbformat": 4,
 "nbformat_minor": 5
}
