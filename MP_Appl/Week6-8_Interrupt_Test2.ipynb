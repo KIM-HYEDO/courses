{
 "cells": [
  {
   "cell_type": "code",
   "execution_count": null,
   "id": "7a527c89-6e49-4a17-a5e6-acb2ee3b2070",
   "metadata": {
    "tags": []
   },
   "outputs": [
    {
     "name": "stdout",
     "output_type": "stream",
     "text": [
      "detected!\n",
      "detected!\n",
      "detected!\n",
      "detected!\n",
      "detected!\n",
      "detected!\n"
     ]
    }
   ],
   "source": [
    "import RPi.GPIO as GPIO\n",
    "import time\n",
    "\n",
    "def fall(channel):\n",
    "    print('detected!')\n",
    "    GPIO.output(5, True)\n",
    "    time.sleep(0.1)\n",
    "    GPIO.output(5, False)\n",
    "\n",
    "GPIO.setmode(GPIO.BCM)\n",
    "GPIO.setup(5, GPIO.OUT)\n",
    "GPIO.setup(6, GPIO.IN)\n",
    "GPIO.add_event_detect(6, GPIO.FALLING, \n",
    "                      callback=lambda x:fall(6), bouncetime=300)\n",
    "\n",
    "try:\n",
    "    while True:\n",
    "        pass\n",
    "finally:\n",
    "    print('cleaning up')\n",
    "    GPIO.cleanup() "
   ]
  },
  {
   "cell_type": "code",
   "execution_count": null,
   "id": "57c928d0-0b42-4ed5-9558-c07966db18c0",
   "metadata": {},
   "outputs": [],
   "source": []
  }
 ],
 "metadata": {
  "kernelspec": {
   "display_name": "Python 3 (ipykernel)",
   "language": "python",
   "name": "python3"
  },
  "language_info": {
   "codemirror_mode": {
    "name": "ipython",
    "version": 3
   },
   "file_extension": ".py",
   "mimetype": "text/x-python",
   "name": "python",
   "nbconvert_exporter": "python",
   "pygments_lexer": "ipython3",
   "version": "3.9.2"
  }
 },
 "nbformat": 4,
 "nbformat_minor": 5
}
