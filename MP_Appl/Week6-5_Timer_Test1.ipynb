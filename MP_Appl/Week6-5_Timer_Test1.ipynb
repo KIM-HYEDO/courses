{
 "cells": [
  {
   "cell_type": "code",
   "execution_count": 1,
   "id": "340f19c4-80a9-4a5c-884d-77d31cdef40f",
   "metadata": {
    "tags": []
   },
   "outputs": [
    {
     "name": "stdout",
     "output_type": "stream",
     "text": [
      "Hello World!\n"
     ]
    }
   ],
   "source": [
    "from threading import Timer\n",
    "\n",
    "def HelloWorld():\n",
    "    print('Hello World!')\n",
    "\n",
    "Timer(1.5, HelloWorld).start() "
   ]
  },
  {
   "cell_type": "code",
   "execution_count": null,
   "id": "def27770-3d2f-4287-a8cf-b3aff3804eb0",
   "metadata": {},
   "outputs": [],
   "source": []
  },
  {
   "cell_type": "code",
   "execution_count": null,
   "id": "ff7c903e-35dc-49c5-82d3-0b3d0c67c007",
   "metadata": {},
   "outputs": [],
   "source": []
  }
 ],
 "metadata": {
  "kernelspec": {
   "display_name": "Python 3 (ipykernel)",
   "language": "python",
   "name": "python3"
  },
  "language_info": {
   "codemirror_mode": {
    "name": "ipython",
    "version": 3
   },
   "file_extension": ".py",
   "mimetype": "text/x-python",
   "name": "python",
   "nbconvert_exporter": "python",
   "pygments_lexer": "ipython3",
   "version": "3.9.2"
  }
 },
 "nbformat": 4,
 "nbformat_minor": 5
}
