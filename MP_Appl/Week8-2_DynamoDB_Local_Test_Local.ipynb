{
 "cells": [
  {
   "attachments": {},
   "cell_type": "markdown",
   "metadata": {},
   "source": [
    "### Table 생성"
   ]
  },
  {
   "cell_type": "code",
   "execution_count": 7,
   "metadata": {},
   "outputs": [
    {
     "name": "stdout",
     "output_type": "stream",
     "text": [
      "Table status: ACTIVE\n"
     ]
    }
   ],
   "source": [
    "import boto3\n",
    "def create_indices_table(dynamodb=None):\n",
    "\tif not dynamodb:\n",
    "\t\tdynamodb = boto3.resource('dynamodb',\n",
    "                          aws_access_key_id=\"anything\",\n",
    "                          aws_secret_access_key=\"anything\",\n",
    "                          region_name=\"us-west-2\",\n",
    "                          endpoint_url=\"http://localhost:8000\")\n",
    "\t\ttable_name = 'StockPrice'\n",
    "\t\ttable = dynamodb.Table(table_name)\n",
    "\t\ttry:\n",
    "\t\t\ttable.delete()\n",
    "\t\texcept dynamodb.meta.client.exceptions.ResourceNotFoundException:\n",
    "\t\t\tpass\n",
    "\n",
    "\t\ttable = dynamodb.create_table(TableName=table_name,\n",
    "\t\t\tKeySchema=[\n",
    "\t\t\t{'AttributeName': 'StockName','KeyType': 'HASH' # Partition key\n",
    "\t\t\t},\n",
    "\t\t\t{'AttributeName': 'Date','KeyType': 'RANGE' # Sort key\n",
    "\t\t\t}\n",
    "\t\t\t],\n",
    "\t\t\tAttributeDefinitions=[\n",
    "\t\t\t{'AttributeName': 'StockName','AttributeType': 'S'},\n",
    "\t\t\t{'AttributeName': 'Date','AttributeType': 'S'},\n",
    "\t\t\t],\n",
    "\t\t\tProvisionedThroughput={'ReadCapacityUnits': 10, 'WriteCapacityUnits': 10}\n",
    "\t\t)\n",
    "\treturn table\n",
    "if __name__ == '__main__':\n",
    "\tindices_table = create_indices_table()\n",
    "\tprint(\"Table status:\", indices_table.table_status)"
   ]
  },
  {
   "attachments": {},
   "cell_type": "markdown",
   "metadata": {},
   "source": [
    "### Table item 추가, 쿼리, 수정, 삭제하기"
   ]
  },
  {
   "cell_type": "code",
   "execution_count": 3,
   "metadata": {},
   "outputs": [
    {
     "name": "stdout",
     "output_type": "stream",
     "text": [
      "item Samsung Electronics added!\n",
      "-------\n",
      "Querying items for StockName = Samsung Electronics\n",
      "[{'Date': '2023-04-20', 'StockName': 'Samsung Electronics', 'Value': Decimal('65300')}]\n",
      "-------\n",
      "Querying items for StockName = Samsung Electronics 2023-04-19 ~ 2023-04-21\n",
      "[{'Date': '2023-04-20', 'StockName': 'Samsung Electronics', 'Value': Decimal('65300')}]\n",
      "-------\n",
      "Querying items for StockName = Samsung Electronics 2023-04-21 ~ 2023-04-23\n",
      "[]\n",
      "-------\n",
      "item Samsung Electronics updated!\n",
      "-------\n",
      "Querying items for StockName = Samsung Electronics\n",
      "[{'Date': '2023-04-20', 'StockName': 'Samsung Electronics', 'Value': Decimal('65400')}]\n",
      "-------\n",
      "item Samsung Electronics deleted!\n",
      "-------\n",
      "Querying items for StockName = Samsung Electronics\n",
      "[]\n",
      "-------\n",
      "item Samsung Electronics added!\n",
      "-------\n"
     ]
    }
   ],
   "source": [
    "import boto3\n",
    "from boto3.dynamodb.conditions import Key, Attr\n",
    "from decimal import Decimal\n",
    "\n",
    "def write_data(stockname, date, value, dynamodb):\n",
    "    table = dynamodb.Table('StockPrice')\n",
    "    item = {'StockName':stockname, \n",
    "            'Date':date, \n",
    "            'Value':Decimal(value)}\n",
    "    table.put_item(Item=item)\n",
    "    print('item', stockname, 'added!')\n",
    "    print('-------')\n",
    "    \n",
    "def query_data_by_name(stockname, dynamodb):\n",
    "    table = dynamodb.Table('StockPrice')  \n",
    "    response = table.query(\n",
    "        KeyConditionExpression = \n",
    "            Key('StockName').eq(stockname))\n",
    "    print('Querying items for', 'StockName =', stockname)\n",
    "    print(response['Items'])\n",
    "    print('-------')\n",
    "\n",
    "def query_data_by_date(stockname, date_from, date_to, dynamodb):\n",
    "    table = dynamodb.Table('StockPrice')  \n",
    "    response = table.query(\n",
    "        KeyConditionExpression = \n",
    "            Key('StockName').eq(stockname) \n",
    "            & Key('Date').between(date_from, date_to))\n",
    "    print('Querying items for', 'StockName =', \n",
    "          stockname, date_from, '~', date_to)\n",
    "    print(response['Items'])\n",
    "    print('-------')\n",
    "\n",
    "def update_data(stockname, date, new_value, dynamodb):\n",
    "    table = dynamodb.Table('StockPrice')\n",
    "    response = table.update_item(\n",
    "        Key={'StockName':stockname,'Date':date},\n",
    "        UpdateExpression='Set #V=:v',\n",
    "        ExpressionAttributeNames={\n",
    "            '#V':'Value'},\n",
    "        ExpressionAttributeValues={\n",
    "            ':v':Decimal(new_value)},\n",
    "        ReturnValues='UPDATED_NEW'\n",
    "    )\n",
    "    print('item', stockname, 'updated!')\n",
    "    print('-------')\n",
    "\n",
    "def remove_data(stockname, date, dynamodb):\n",
    "    table = dynamodb.Table('StockPrice')\n",
    "    response = table.delete_item(\n",
    "        Key={'StockName':stockname, 'Date':date}\n",
    "    )\n",
    "    print('item', stockname, 'deleted!')\n",
    "    print('-------')\n",
    "\n",
    "date = '2023-04-20'\n",
    "stockname = 'Samsung Electronics'\n",
    "value = 65300\n",
    "dynamodb = boto3.resource('dynamodb',\n",
    "                          aws_access_key_id=\"anything\",\n",
    "                          aws_secret_access_key=\"anything\",\n",
    "                          region_name=\"ap-northeast-2\",\n",
    "                          endpoint_url=\"http://localhost:8000\")\n",
    "\n",
    "write_data(stockname, date, value, dynamodb)\n",
    "query_data_by_name(stockname, dynamodb)\n",
    "query_data_by_date(stockname, '2023-04-19', '2023-04-21', dynamodb)\n",
    "query_data_by_date(stockname, '2023-04-21', '2023-04-23', dynamodb)\n",
    "update_data(stockname, date, 65400, dynamodb)\n",
    "query_data_by_name(stockname, dynamodb)\n",
    "remove_data(stockname, date, dynamodb)\n",
    "query_data_by_name(stockname, dynamodb)"
   ]
  }
 ],
 "metadata": {
  "kernelspec": {
   "display_name": "Python 3",
   "language": "python",
   "name": "python3"
  },
  "language_info": {
   "codemirror_mode": {
    "name": "ipython",
    "version": 3
   },
   "file_extension": ".py",
   "mimetype": "text/x-python",
   "name": "python",
   "nbconvert_exporter": "python",
   "pygments_lexer": "ipython3",
   "version": "3.11.2"
  },
  "orig_nbformat": 4
 },
 "nbformat": 4,
 "nbformat_minor": 2
}
