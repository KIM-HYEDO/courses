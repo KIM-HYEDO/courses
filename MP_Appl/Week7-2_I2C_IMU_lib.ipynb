{
 "cells": [
  {
   "cell_type": "code",
   "execution_count": null,
   "id": "1e005c66-db19-4759-ac74-79d154d98aa3",
   "metadata": {
    "tags": []
   },
   "outputs": [],
   "source": [
    "import smbus\t\t\t\n",
    "from imusensor.MPU9250 import MPU9250\n",
    "from time import sleep\n",
    "\n",
    "bus = smbus.SMBus(1) \t\n",
    "address = 0x68\n",
    "imu = MPU9250.MPU9250(bus, address)\n",
    "imu.begin()\n",
    "\n",
    "while True:\n",
    "    imu.readSensor()\n",
    "    imu.computeOrientation()\n",
    "    print('Ax:{0};Ay:{1};Az:{2}'.format(imu.AccelVals[0], \n",
    "                                        imu.AccelVals[1], imu.AccelVals[2]))\n",
    "    print('Gx:{0};Gy:{1};Gz:{2}'.format(imu.GyroVals[0], \n",
    "                                        imu.GyroVals[1], imu.GyroVals[2]))\n",
    "    print('Mx:{0};My:{1};Mz:{2}'.format(imu.MagVals[0], \n",
    "                                        imu.MagVals[1], imu.MagVals[2]))\n",
    "    print('roll:{0};pitch:{1};yaw:{2}'.format(imu.roll, \n",
    "                                              imu.pitch, imu.yaw))\n",
    "    print('temperature:{0}'.format(imu.Temp))\n",
    "    print('--------------------------------------------------------')\n",
    "    sleep(1)"
   ]
  },
  {
   "cell_type": "code",
   "execution_count": null,
   "id": "91c2015d-28b6-423a-b72c-2e4805024805",
   "metadata": {},
   "outputs": [],
   "source": []
  }
 ],
 "metadata": {
  "kernelspec": {
   "display_name": "Python 3 (ipykernel)",
   "language": "python",
   "name": "python3"
  },
  "language_info": {
   "codemirror_mode": {
    "name": "ipython",
    "version": 3
   },
   "file_extension": ".py",
   "mimetype": "text/x-python",
   "name": "python",
   "nbconvert_exporter": "python",
   "pygments_lexer": "ipython3",
   "version": "3.9.2"
  }
 },
 "nbformat": 4,
 "nbformat_minor": 5
}
