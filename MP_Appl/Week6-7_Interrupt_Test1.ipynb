{
 "cells": [
  {
   "cell_type": "code",
   "execution_count": null,
   "id": "22d33af9-df6d-413f-b2e8-41df687a9a8b",
   "metadata": {
    "tags": []
   },
   "outputs": [
    {
     "name": "stdout",
     "output_type": "stream",
     "text": [
      "Button Released!\n",
      "Button Released!\n",
      "Button Released!\n",
      "Button Released!\n",
      "Button Pressed!\n",
      "Button Released!\n",
      "Button Pressed!\n",
      "Button Released!\n",
      "Button Pressed!\n",
      "Button Released!\n",
      "Button Pressed!\n",
      "Button Released!\n",
      "Button Pressed!\n",
      "Button Released!\n",
      "Button Pressed!\n",
      "Button Pressed!\n",
      "Button Released!\n",
      "Button Pressed!\n",
      "Button Released!\n",
      "Button Pressed!\n",
      "Button Released!\n",
      "Button Pressed!\n",
      "Button Released!\n"
     ]
    }
   ],
   "source": [
    "import RPi.GPIO as GPIO\n",
    "import time\n",
    "\n",
    "GPIO.setmode(GPIO.BCM)\n",
    "GPIO.setup(6, GPIO.IN)\n",
    "\n",
    "try:\n",
    "    while True:\n",
    "        GPIO.wait_for_edge(6, GPIO.BOTH)\n",
    "        if not GPIO.input(6):\n",
    "            print('Button Pressed!')\n",
    "        else:\n",
    "            print('Button Released!')\n",
    "finally:\n",
    "    print('cleaning up')\n",
    "    GPIO.cleanup() "
   ]
  },
  {
   "cell_type": "code",
   "execution_count": null,
   "id": "b8884d72-98ca-4f9c-b28e-929f250deedb",
   "metadata": {},
   "outputs": [],
   "source": []
  }
 ],
 "metadata": {
  "kernelspec": {
   "display_name": "Python 3 (ipykernel)",
   "language": "python",
   "name": "python3"
  },
  "language_info": {
   "codemirror_mode": {
    "name": "ipython",
    "version": 3
   },
   "file_extension": ".py",
   "mimetype": "text/x-python",
   "name": "python",
   "nbconvert_exporter": "python",
   "pygments_lexer": "ipython3",
   "version": "3.9.2"
  }
 },
 "nbformat": 4,
 "nbformat_minor": 5
}
