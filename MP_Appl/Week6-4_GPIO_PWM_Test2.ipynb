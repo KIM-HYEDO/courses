{
 "cells": [
  {
   "cell_type": "code",
   "execution_count": null,
   "id": "4531d985-ab75-4af5-bc1b-98823286c806",
   "metadata": {
    "tags": []
   },
   "outputs": [],
   "source": [
    "import RPi.GPIO as GPIO\n",
    "import time\n",
    "\n",
    "GPIO.setmode(GPIO.BCM)\n",
    "GPIO.setup(5, GPIO.OUT)\n",
    "pwm = GPIO.PWM(5, 100)  #100Hz\n",
    "pwm.start(50)\n",
    "\n",
    "try:\n",
    "    while(True):\n",
    "        duty_s = input('Brightness (0 to 100):')\n",
    "        duty = float(duty_s)\n",
    "        pwm.ChangeDutyCycle(duty)\n",
    "\n",
    "finally:\n",
    "    print('cleaning up')\n",
    "    GPIO.cleanup()"
   ]
  },
  {
   "cell_type": "code",
   "execution_count": null,
   "id": "8508b43c-1620-4b60-96e0-3b30350b54fb",
   "metadata": {},
   "outputs": [],
   "source": []
  }
 ],
 "metadata": {
  "kernelspec": {
   "display_name": "Python 3 (ipykernel)",
   "language": "python",
   "name": "python3"
  },
  "language_info": {
   "codemirror_mode": {
    "name": "ipython",
    "version": 3
   },
   "file_extension": ".py",
   "mimetype": "text/x-python",
   "name": "python",
   "nbconvert_exporter": "python",
   "pygments_lexer": "ipython3",
   "version": "3.9.2"
  }
 },
 "nbformat": 4,
 "nbformat_minor": 5
}
