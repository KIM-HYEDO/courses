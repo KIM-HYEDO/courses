{
 "cells": [
  {
   "cell_type": "markdown",
   "metadata": {},
   "source": [
    "# 목차\n",
    "- [3. 데이터를 묶음으로 다루기](#3.-데이터를-묶음으로-다루기)\n",
    "    + [3.1 리스트](#3.1-리스트)\n",
    "    + [3.2 튜플](#3.2-튜플)\n",
    "    + [3.3 세트](#3.3-세트)\n",
    "    + [3.4 딕셔너리](#3.4-딕셔너리)"
   ]
  },
  {
   "cell_type": "markdown",
   "metadata": {},
   "source": [
    "# 3. Data를 묶음으로 다루기  \n",
    "### 3.1 리스트  \n",
    "* 리스트(List)는 여러 데이터를 1열로 세워 묶은 형태이다.  \n",
    "* 리스트는 시작과 끝은 `[ ]` 기호로 표현하고, 서로 다른 데이터 타입도 묶을 수 있다. (데이터 타입의 종류는 다음 장에서 좀 더 자세히 다룬다.)"
   ]
  },
  {
   "cell_type": "code",
   "execution_count": 2,
   "metadata": {},
   "outputs": [],
   "source": [
    "list_mixed = [0, 2.5, 'abc']"
   ]
  },
  {
   "cell_type": "markdown",
   "metadata": {},
   "source": [
    "* 리스트는 다음과 같이 여러가지 방법으로 생성할 수 있다."
   ]
  },
  {
   "cell_type": "code",
   "execution_count": 4,
   "metadata": {},
   "outputs": [
    {
     "name": "stdout",
     "output_type": "stream",
     "text": [
      "[]\n"
     ]
    }
   ],
   "source": [
    "# 비어있는 리스트 생성\n",
    "empty_list = []\n",
    "print(empty_list)"
   ]
  },
  {
   "cell_type": "code",
   "execution_count": 6,
   "metadata": {},
   "outputs": [
    {
     "name": "stdout",
     "output_type": "stream",
     "text": [
      "[0, 1, 2, 3, 4]\n"
     ]
    }
   ],
   "source": [
    "# 직접 입력해서 생성\n",
    "list_manual = [0, 1, 2, 3, 4]\n",
    "print(list_manual)"
   ]
  },
  {
   "cell_type": "code",
   "execution_count": 105,
   "metadata": {},
   "outputs": [
    {
     "name": "stdout",
     "output_type": "stream",
     "text": [
      "[0, 1, 2, 3, 4, 5, 6, 7, 8, 9]\n",
      "[1, 2, 3, 4, 5, 6, 7, 8, 9]\n",
      "[2, 4, 6, 8]\n"
     ]
    }
   ],
   "source": [
    "# range 함수를 이용한 생성 (이하 A, B, C 모두 정수)\n",
    "# range(B) - 0부터 1의 간격으로 B보다 작은 정수까지 리스트 생성\n",
    "list_new = list(range(10))\n",
    "print(list_new)\n",
    "\n",
    "# range(A,B) - A부터 시작해 1의 간격으로 B보다 작은 정수까지 리스트 생성\n",
    "list_new = list(range(1,10))\n",
    "print(list_new)\n",
    "\n",
    "# range(A,B,C) - A부터 시작해 C의 간격으로 B보다 작은 정수까지 리스트 생성 (C가 음수일 경우 반대)\n",
    "list_new = list(range(2,10,2))\n",
    "print(list_new)"
   ]
  },
  {
   "cell_type": "markdown",
   "metadata": {},
   "source": [
    "* 리스트에 `+` 연산과 `*` 연산은 조금 특별하게 동작한다.\n",
    "    + `+` 연산은 좌우의 리스트를 이어 붙인다.\n",
    "    + `*` 연산은 `*` 왼쪽의 리스트를 오른쪽의 숫자만큼 반복해서 붙인다."
   ]
  },
  {
   "cell_type": "code",
   "execution_count": 108,
   "metadata": {},
   "outputs": [
    {
     "name": "stdout",
     "output_type": "stream",
     "text": [
      "[0, 1, 2, 3, 4, 4, 3, 2, 1, 0]\n",
      "[0, 1, 2, 3, 4, 0, 1, 2, 3, 4]\n"
     ]
    }
   ],
   "source": [
    "# 리스트에서 +연산과 *연산\n",
    "list_manual = [0, 1, 2, 3, 4]\n",
    "list_new = list(range(4,-1,-1))\n",
    "print(list_manual+list_new)\n",
    "print(list_manual*2)"
   ]
  },
  {
   "cell_type": "markdown",
   "metadata": {},
   "source": [
    "* 리스트는 다음 예시와 같이 기본 제공되는 함수를 이용해 수정할 수 있다."
   ]
  },
  {
   "cell_type": "code",
   "execution_count": 72,
   "metadata": {},
   "outputs": [
    {
     "name": "stdout",
     "output_type": "stream",
     "text": [
      "[0, 1, 2, 3, 4, 5]\n"
     ]
    }
   ],
   "source": [
    "# list의 맨 뒤에 원소 추가하기\n",
    "list_manual = [0, 1, 2, 3, 4]\n",
    "list_manual.append(5)\n",
    "print(list_manual)"
   ]
  },
  {
   "cell_type": "code",
   "execution_count": 73,
   "metadata": {},
   "outputs": [
    {
     "name": "stdout",
     "output_type": "stream",
     "text": [
      "[0, 1, 10, 2, 3, 4, 5]\n"
     ]
    }
   ],
   "source": [
    "# list의 원하는 위치에 원소 추가하기\n",
    "# insert(position, value) 참고로 시작위치의 값은 0\n",
    "list_manual.insert(2, 10)\n",
    "print(list_manual)"
   ]
  },
  {
   "cell_type": "code",
   "execution_count": 74,
   "metadata": {},
   "outputs": [
    {
     "name": "stdout",
     "output_type": "stream",
     "text": [
      "[0, 1, 10, 2, 3, 4]\n"
     ]
    }
   ],
   "source": [
    "# list의 맨 뒤에 원소 제거하기\n",
    "list_manual.pop()\n",
    "print(list_manual)"
   ]
  },
  {
   "cell_type": "code",
   "execution_count": 75,
   "metadata": {},
   "outputs": [
    {
     "name": "stdout",
     "output_type": "stream",
     "text": [
      "[0, 1, 2, 3, 4]\n"
     ]
    }
   ],
   "source": [
    "# list의 원하는 위치에 원소 제거하기\n",
    "# pop(position)\n",
    "list_manual.pop(2)\n",
    "print(list_manual)"
   ]
  },
  {
   "cell_type": "markdown",
   "metadata": {},
   "source": [
    "* 그외 여러 가지 편리한 함수들이 기본으로 제공된다."
   ]
  },
  {
   "cell_type": "code",
   "execution_count": 67,
   "metadata": {},
   "outputs": [
    {
     "name": "stdout",
     "output_type": "stream",
     "text": [
      "5\n"
     ]
    }
   ],
   "source": [
    "# list의 원소 개수 세기\n",
    "num_data = len(list_manual)\n",
    "print(num_data)"
   ]
  },
  {
   "cell_type": "code",
   "execution_count": 68,
   "metadata": {},
   "outputs": [
    {
     "name": "stdout",
     "output_type": "stream",
     "text": [
      "2\n"
     ]
    }
   ],
   "source": [
    "# 원소의 위치 찾기 (처음으로 발견된 원소의 위치 반환)\n",
    "position = list_manual.index(2)\n",
    "print(position)"
   ]
  },
  {
   "cell_type": "code",
   "execution_count": 42,
   "metadata": {},
   "outputs": [
    {
     "name": "stdout",
     "output_type": "stream",
     "text": [
      "[0, 1, 2, 3, 4]\n",
      "[4, 3, 2, 1, 0]\n"
     ]
    }
   ],
   "source": [
    "# list 크기순으로 정렬하기 (기본 오름차순)\n",
    "list_manual.sort()\n",
    "print(list_manual)\n",
    "list_manual.sort(reverse=True)\n",
    "print(list_manual)"
   ]
  },
  {
   "cell_type": "code",
   "execution_count": 43,
   "metadata": {},
   "outputs": [
    {
     "name": "stdout",
     "output_type": "stream",
     "text": [
      "2\n"
     ]
    }
   ],
   "source": [
    "# 원하는 부위 잘라내기 (슬라이싱)\n",
    "# 하나만 선택해 반환하기\n",
    "print(list_manual[2])"
   ]
  },
  {
   "cell_type": "code",
   "execution_count": 50,
   "metadata": {},
   "outputs": [
    {
     "name": "stdout",
     "output_type": "stream",
     "text": [
      "[2, 1]\n"
     ]
    }
   ],
   "source": [
    "# [A:B] A위치부터, B보다 '작은'위치까지 선택\n",
    "# [2:4] = 2,3의 위치 선택\n",
    "print(list_manual[2:4])"
   ]
  },
  {
   "cell_type": "code",
   "execution_count": 52,
   "metadata": {},
   "outputs": [
    {
     "name": "stdout",
     "output_type": "stream",
     "text": [
      "[2, 1, 0]\n",
      "[4, 3, 2, 1]\n"
     ]
    }
   ],
   "source": [
    "# [A:] A위치부터, 끝까지\n",
    "# [:B] 시작부터, B보다 '작은'위치까지 선택\n",
    "print(list_manual[2:])\n",
    "print(list_manual[:4])"
   ]
  },
  {
   "cell_type": "code",
   "execution_count": 53,
   "metadata": {},
   "outputs": [
    {
     "name": "stdout",
     "output_type": "stream",
     "text": [
      "1\n"
     ]
    }
   ],
   "source": [
    "# [-A] 맨 뒤에서 부터 A번째\n",
    "print(list_manual[-2])"
   ]
  },
  {
   "cell_type": "markdown",
   "metadata": {},
   "source": [
    "### 3.2 튜플  \n",
    "* 튜플(Tuple)는 List와 같지만 한 번 선언하면, 이후 수정이 불가능한 묶음이다.\n",
    "* 튜플의 시작과 끝은 `( )` 기호로 표현하고, 나머지는 리스트와 같다."
   ]
  },
  {
   "cell_type": "code",
   "execution_count": 56,
   "metadata": {},
   "outputs": [
    {
     "name": "stdout",
     "output_type": "stream",
     "text": [
      "()\n"
     ]
    }
   ],
   "source": [
    "# 비어있는 튜플 생성 = 하지만 수정이 안되기 때문에 사실상 의미가 없다.\n",
    "empty_tuple = ()\n",
    "print(empty_tuple)"
   ]
  },
  {
   "cell_type": "code",
   "execution_count": 57,
   "metadata": {},
   "outputs": [
    {
     "name": "stdout",
     "output_type": "stream",
     "text": [
      "(0, 1, 2, 3, 4)\n"
     ]
    }
   ],
   "source": [
    "# 직접 입력해서 생성\n",
    "tuple_manual = (0, 1, 2, 3, 4)\n",
    "print(tuple_manual)"
   ]
  },
  {
   "cell_type": "code",
   "execution_count": 59,
   "metadata": {},
   "outputs": [
    {
     "name": "stdout",
     "output_type": "stream",
     "text": [
      "(2, 4, 6, 8)\n"
     ]
    }
   ],
   "source": [
    "# range 함수를 이용한 생성 (이하 A, B, C 모두 정수)\n",
    "print(tuple(range(2,10,2)))"
   ]
  },
  {
   "cell_type": "markdown",
   "metadata": {},
   "source": [
    "* 수정과 관련된 함수를 제외한, 나머지 제공 함수들은 리스트와 거의 같다."
   ]
  },
  {
   "cell_type": "code",
   "execution_count": 61,
   "metadata": {},
   "outputs": [
    {
     "data": {
      "text/plain": [
       "5"
      ]
     },
     "execution_count": 61,
     "metadata": {},
     "output_type": "execute_result"
    }
   ],
   "source": [
    "len(tuple_manual)"
   ]
  },
  {
   "cell_type": "code",
   "execution_count": 65,
   "metadata": {},
   "outputs": [
    {
     "data": {
      "text/plain": [
       "4"
      ]
     },
     "execution_count": 65,
     "metadata": {},
     "output_type": "execute_result"
    }
   ],
   "source": [
    "tuple_manual.index(4)"
   ]
  },
  {
   "cell_type": "code",
   "execution_count": 66,
   "metadata": {},
   "outputs": [
    {
     "data": {
      "text/plain": [
       "(1, 2, 3, 4)"
      ]
     },
     "execution_count": 66,
     "metadata": {},
     "output_type": "execute_result"
    }
   ],
   "source": [
    "tuple_manual[1:]"
   ]
  },
  {
   "cell_type": "markdown",
   "metadata": {},
   "source": [
    "### 3.3 세트  \n",
    "* 세트(Set)도 List와 유사하지만, 원소의 중복을 허용하지 않는다는 점이 다르다.\n",
    "* 세트의 시작과 끝은 `{ }` 기호로 표현하고, 나머지는 리스트와 같다."
   ]
  },
  {
   "cell_type": "code",
   "execution_count": 76,
   "metadata": {},
   "outputs": [
    {
     "name": "stdout",
     "output_type": "stream",
     "text": [
      "{}\n"
     ]
    }
   ],
   "source": [
    "# 비어있는 세트 생성\n",
    "empty_set = {}\n",
    "print(empty_set)"
   ]
  },
  {
   "cell_type": "code",
   "execution_count": 77,
   "metadata": {},
   "outputs": [
    {
     "name": "stdout",
     "output_type": "stream",
     "text": [
      "{0, 1, 2, 3, 4}\n"
     ]
    }
   ],
   "source": [
    "# 직접 입력해서 생성 - 중복원소는 제거된다.\n",
    "set_manual = {0, 1, 2, 3, 4, 4, 3, 2, 1, 0}\n",
    "print(set_manual)"
   ]
  },
  {
   "cell_type": "code",
   "execution_count": 80,
   "metadata": {},
   "outputs": [
    {
     "name": "stdout",
     "output_type": "stream",
     "text": [
      "{8, 2, 4, 6}\n"
     ]
    }
   ],
   "source": [
    "# range 함수를 이용한 생성 (이하 A, B, C 모두 정수)\n",
    "print(set(range(2,10,2)))"
   ]
  },
  {
   "cell_type": "markdown",
   "metadata": {},
   "source": [
    "* 세트는 즉 집합이므로, 수학에서의 집합과 관련된 연산 기능도 대부분 제공된다.\n",
    "* 예를 들어, "
   ]
  },
  {
   "cell_type": "code",
   "execution_count": 82,
   "metadata": {},
   "outputs": [
    {
     "name": "stdout",
     "output_type": "stream",
     "text": [
      "{1}\n"
     ]
    }
   ],
   "source": [
    "# 교집합 '&'\n",
    "set_first = {1, 3, 5}\n",
    "set_second = {1, 2, 4, 8}\n",
    "print(set_first&set_second)"
   ]
  },
  {
   "cell_type": "code",
   "execution_count": 84,
   "metadata": {},
   "outputs": [
    {
     "name": "stdout",
     "output_type": "stream",
     "text": [
      "{1, 2, 3, 4, 5, 8}\n"
     ]
    }
   ],
   "source": [
    "# 합집합 '|'\n",
    "print(set_first|set_second)"
   ]
  },
  {
   "cell_type": "code",
   "execution_count": 86,
   "metadata": {},
   "outputs": [
    {
     "name": "stdout",
     "output_type": "stream",
     "text": [
      "{3, 5}\n"
     ]
    }
   ],
   "source": [
    "# 차집합 '-'\n",
    "print(set_first-set_second)"
   ]
  },
  {
   "cell_type": "code",
   "execution_count": 91,
   "metadata": {},
   "outputs": [
    {
     "data": {
      "text/plain": [
       "True"
      ]
     },
     "execution_count": 91,
     "metadata": {},
     "output_type": "execute_result"
    }
   ],
   "source": [
    "# 부분집합 여부 확인\n",
    "# A.issuperset(B) - B가 A의 부분집합인지 여부 (A가 B를 포함하는지 여부)\n",
    "set_third = {1, 3, 5, 7}\n",
    "set_third.issuperset(set_first)"
   ]
  },
  {
   "cell_type": "code",
   "execution_count": 92,
   "metadata": {},
   "outputs": [
    {
     "data": {
      "text/plain": [
       "True"
      ]
     },
     "execution_count": 92,
     "metadata": {},
     "output_type": "execute_result"
    }
   ],
   "source": [
    "# 원소 여부 확인\n",
    "3 in set_first"
   ]
  },
  {
   "cell_type": "markdown",
   "metadata": {},
   "source": [
    "### 3.4 딕셔너리  "
   ]
  },
  {
   "cell_type": "markdown",
   "metadata": {},
   "source": [
    "* 딕셔너리(Dictionary)는 List와 유사하지만, 위치(index)가 정수가 아닌 'key'라는 임의의 값으로 관리된다.\n",
    "* 딕셔너리의 시작과 끝은 `{ }` 기호로 세트와 표현방법이 같지만, 각 원소가 'key:value'의 형태로 저장된다."
   ]
  },
  {
   "cell_type": "code",
   "execution_count": 95,
   "metadata": {},
   "outputs": [
    {
     "name": "stdout",
     "output_type": "stream",
     "text": [
      "{'name': 'John', 'age': 15, 'height': 1.76}\n"
     ]
    }
   ],
   "source": [
    "my_dictionary = {'name':'John', 'age':15, 'height': 1.76}\n",
    "print(my_dictionary)"
   ]
  },
  {
   "cell_type": "markdown",
   "metadata": {},
   "source": [
    "* 선택 방법 역시 List와 유사하지만 위치(index) 대신 'key'로 접근한다."
   ]
  },
  {
   "cell_type": "code",
   "execution_count": 96,
   "metadata": {},
   "outputs": [
    {
     "data": {
      "text/plain": [
       "'John'"
      ]
     },
     "execution_count": 96,
     "metadata": {},
     "output_type": "execute_result"
    }
   ],
   "source": [
    "my_dictionary['name']"
   ]
  },
  {
   "cell_type": "markdown",
   "metadata": {},
   "source": [
    "* 당연히, 딕셔너리가 리스트의 원소가 될 수 있고, 그 반대도 가능하다."
   ]
  },
  {
   "cell_type": "code",
   "execution_count": 101,
   "metadata": {},
   "outputs": [
    {
     "name": "stdout",
     "output_type": "stream",
     "text": [
      "John\n"
     ]
    }
   ],
   "source": [
    "first_user = {'name':'John', 'age':15, 'height':1.76, 'position':[15,3]}\n",
    "second_user = {'name':'Paul', 'age':17, 'height':1.88, 'position':[-2,7]}\n",
    "users = [first_user, second_user]\n",
    "print(users[0]['name'])"
   ]
  }
 ],
 "metadata": {
  "kernelspec": {
   "display_name": "Python 3",
   "language": "python",
   "name": "python3"
  },
  "language_info": {
   "codemirror_mode": {
    "name": "ipython",
    "version": 3
   },
   "file_extension": ".py",
   "mimetype": "text/x-python",
   "name": "python",
   "nbconvert_exporter": "python",
   "pygments_lexer": "ipython3",
   "version": "3.6.9"
  }
 },
 "nbformat": 4,
 "nbformat_minor": 4
}
