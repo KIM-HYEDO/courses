{
 "cells": [
  {
   "cell_type": "markdown",
   "metadata": {},
   "source": [
    "# 목차\n",
    "- [4. 기본적인 계산 다루기](#4.-기본적인-계산-다루기)\n",
    "    + [4.1 기본 수학 연산](#4.1-기본-수학-연산)\n",
    "    + [4.2 단순 반복 계산하기 (for)](#4.2-단순-반복-계산하기-(for))\n",
    "    + [4.3 조건 반복 계산하기 (while)](#4.3-조건-반복-계산하기-(while))\n",
    "    + [4.4 좀 더 복잡한 계산하기 (if)](#4.4-좀-더-복잡한-계산하기-(if))\n",
    "\n",
    "# 4. 기본적인 계산 다루기  \n",
    "### 4.1 기본 수학 연산\n",
    "* 변수(variable)\n",
    "    + 어떤 데이터를 저장하는 공간을 가리키는 이름표라고 보면 되고, 그 공간에 저장되는 데이터가 계속 바뀔 수 있기 때문에 변수라고 한다.\n",
    "    + 가독성을 위해 저장할 데이터의 종류나, 그 데이터의 용도에 맞게 이름을 정하는 것이 좋다. \n",
    "        - (다른 사람들의 소스코드를 참고하다 보면 어느정도 규칙이 있음을 알 수 있다.)"
   ]
  },
  {
   "cell_type": "code",
   "execution_count": 3,
   "metadata": {},
   "outputs": [],
   "source": [
    "# 변수의 좋은 예\n",
    "pos_x = 10 \n",
    "num_values = 5\n",
    "_event_flag = False\n",
    "\n",
    "# 변수의 나쁜 예\n",
    "abc = 4\n",
    "a1 = 50\n",
    "xxxx = 3.4\n",
    "temp1 = 4\n",
    "temp2 = 5"
   ]
  },
  {
   "cell_type": "markdown",
   "metadata": {},
   "source": [
    "* 데이터 타입\n",
    "    + `정수`, `실수`, `bool`(True/False), `문자열` 정도로 구분할 수 있다.\n",
    "    + python이 자동으로 관리해주므로 굳이 신경 쓸 필요가 없다.\n",
    "        - 달리 이야기하면, 데이터 타입이 내 의도와는 달리 바뀔 수 있으므로 주의도 필요하다."
   ]
  },
  {
   "cell_type": "code",
   "execution_count": 46,
   "metadata": {},
   "outputs": [
    {
     "name": "stdout",
     "output_type": "stream",
     "text": [
      "number = 2.5\n"
     ]
    }
   ],
   "source": [
    "# 정수\n",
    "number = 5\n",
    "\n",
    "# 실수\n",
    "value = 2.5\n",
    "\n",
    "# bool\n",
    "is_number = True\n",
    "\n",
    "# 문자열(string)\n",
    "name = 'Ivan'\n",
    "\n",
    "# 정수가 실수로 바뀌는 경우\n",
    "number = number / 2\n",
    "print('number =', number)"
   ]
  },
  {
   "cell_type": "markdown",
   "metadata": {},
   "source": [
    "* 기본 연산자\n",
    "    + 사칙연산\n",
    "        - 더하기 `+`, 빼기 `-`, 곱하기 `*`, 나누기 `/`)\n",
    "    + 기타연산\n",
    "        - 몫 `//`, 나머지 `%`, 제곱 `**`\n",
    "    + 논리연산\n",
    "        - 크다 `>`, 크거나 같다 `>=`, 작다 `<`, 작거나 같다 `<=`, 같다 `==`, 같지 않다 `!=`, `and`, `or`"
   ]
  },
  {
   "cell_type": "code",
   "execution_count": 42,
   "metadata": {},
   "outputs": [
    {
     "name": "stdout",
     "output_type": "stream",
     "text": [
      "12.5 7.5 25.0 4.0 4.0 0.0 316.22776601683796\n",
      "True True False False False True True False\n"
     ]
    }
   ],
   "source": [
    "a = 10\n",
    "b = 2.5\n",
    "print(a+b, a-b, a*b, a/b, a//b, a%b, a**b)\n",
    "print(a>b, a>=b, a<b, a<=b, a==b, a!=b, a>b or a<=b, a>b and a<=b)"
   ]
  },
  {
   "cell_type": "markdown",
   "metadata": {},
   "source": [
    "* 잘 알려진 수학 함수 (numpy 라이브러리 활용)\n",
    "    * 사인 `sin`, 코사인 `cos`, exponential `exp`, 반올림 `round`, 올림 `ceil`, 내림 `floor` "
   ]
  },
  {
   "cell_type": "code",
   "execution_count": 47,
   "metadata": {},
   "outputs": [
    {
     "name": "stdout",
     "output_type": "stream",
     "text": [
      "0.7853981633974483\n",
      "0.7071067811865475\n",
      "0.7071067811865476\n",
      "2.1932800507380152\n",
      "1.0\n",
      "1.0\n",
      "0.0\n"
     ]
    }
   ],
   "source": [
    "# numpy 라이브러리의 활용법은 나중에 좀 더 자세히 다룰 예정입니다.\n",
    "import numpy as np\n",
    "angle = np.pi/4\n",
    "print(angle)\n",
    "print(np.sin(angle))\n",
    "print(np.cos(angle))\n",
    "print(np.exp(angle))\n",
    "print(np.round(angle))\n",
    "print(np.ceil(angle))\n",
    "print(np.floor(angle))"
   ]
  },
  {
   "cell_type": "markdown",
   "metadata": {},
   "source": [
    "### 4.2 단순 반복 계산하기 (for)  \n",
    "* `for`문은 정해진 횟수를 `단순 반복`하기 위한 용도로 많이 사용되는 기본 제공 함수이다.\n",
    "* 형식\n",
    "```python\n",
    "    for 변수 in 리스트:\n",
    "        수행문\n",
    "        ...\n",
    "```\n",
    "    + 리스트에 있는 원소들이 하나씩 차례로 변수에 대입된되며 반복하고, 모든 원소가 대입된 후 반복이 끝난다. \n",
    "    + 물론 리스트에 들어갈 수 있는 데이터 형태는 무엇이든지 가능하다.\n"
   ]
  },
  {
   "cell_type": "code",
   "execution_count": 55,
   "metadata": {},
   "outputs": [
    {
     "name": "stdout",
     "output_type": "stream",
     "text": [
      "4\n",
      "text\n",
      "1.5\n",
      "True\n",
      "{'name': 'Charles', 'age': 15}\n"
     ]
    }
   ],
   "source": [
    "for i in [4, 'text', 1.5 , True, {'name':'Charles', 'age':15}]:\n",
    "    print(i)"
   ]
  },
  {
   "cell_type": "markdown",
   "metadata": {},
   "source": [
    "* 하지만 보통 이렇게 많이 쓴다."
   ]
  },
  {
   "cell_type": "code",
   "execution_count": 56,
   "metadata": {},
   "outputs": [
    {
     "name": "stdout",
     "output_type": "stream",
     "text": [
      "0\n",
      "1\n",
      "2\n",
      "3\n",
      "4\n"
     ]
    }
   ],
   "source": [
    "for i in range(5):\n",
    "    print(i)"
   ]
  },
  {
   "cell_type": "markdown",
   "metadata": {},
   "source": [
    "* `continue` 구문으로 반복을 __한 번__ 스킵 할 수 있다. (`if` 문은 이번 장 맨 뒤에 좀 더 자세히 설명된다.)"
   ]
  },
  {
   "cell_type": "code",
   "execution_count": 60,
   "metadata": {},
   "outputs": [
    {
     "name": "stdout",
     "output_type": "stream",
     "text": [
      "0\n",
      "1\n",
      "2\n",
      "4\n"
     ]
    }
   ],
   "source": [
    "for i in range(5):\n",
    "    if i==3:\n",
    "        continue\n",
    "    print(i)"
   ]
  },
  {
   "cell_type": "markdown",
   "metadata": {},
   "source": [
    "* `break`구문으로 반복을 __완전히__ 끝낼 수 있다. (`break` 한 번에 하나의 반복만 탈출한다.)"
   ]
  },
  {
   "cell_type": "code",
   "execution_count": 2,
   "metadata": {},
   "outputs": [
    {
     "name": "stdout",
     "output_type": "stream",
     "text": [
      "0 0\n",
      "0 1\n",
      "1 0\n",
      "1 1\n",
      "2 0\n",
      "2 1\n"
     ]
    }
   ],
   "source": [
    "for i in range(5):\n",
    "    if i==3:\n",
    "        break\n",
    "    for j in range(5):\n",
    "        if j==2:\n",
    "            break\n",
    "        print(i, j)"
   ]
  },
  {
   "cell_type": "markdown",
   "metadata": {},
   "source": [
    "* (간단한 예제) 구구단 (출력이 길어지니 2-4단만 해보자.)"
   ]
  },
  {
   "cell_type": "code",
   "execution_count": 17,
   "metadata": {},
   "outputs": [
    {
     "name": "stdout",
     "output_type": "stream",
     "text": [
      "2 * 1 = 2\n",
      "2 * 2 = 4\n",
      "2 * 3 = 6\n",
      "2 * 4 = 8\n",
      "2 * 5 = 10\n",
      "2 * 6 = 12\n",
      "2 * 7 = 14\n",
      "2 * 8 = 16\n",
      "2 * 9 = 18\n",
      "----------\n",
      "3 * 1 = 3\n",
      "3 * 2 = 6\n",
      "3 * 3 = 9\n",
      "3 * 4 = 12\n",
      "3 * 5 = 15\n",
      "3 * 6 = 18\n",
      "3 * 7 = 21\n",
      "3 * 8 = 24\n",
      "3 * 9 = 27\n",
      "----------\n",
      "4 * 1 = 4\n",
      "4 * 2 = 8\n",
      "4 * 3 = 12\n",
      "4 * 4 = 16\n",
      "4 * 5 = 20\n",
      "4 * 6 = 24\n",
      "4 * 7 = 28\n",
      "4 * 8 = 32\n",
      "4 * 9 = 36\n",
      "----------\n"
     ]
    }
   ],
   "source": [
    "for i in range(2,5):\n",
    "    for j in range(1,10):\n",
    "        print('%d * %d = %d' % (i, j, i*j))\n",
    "    print('----------')"
   ]
  },
  {
   "cell_type": "markdown",
   "metadata": {},
   "source": [
    "### 4.3 조건 반복 계산하기 (while)  \n",
    "* `while`문은 어떤 `조건`을 만족할 때만, `반복`하도록 하는 용도로 사용한다. \n",
    "* 형식\n",
    "```python\n",
    "    while(조건):\n",
    "        수행문\n",
    "        ...\n",
    "```\n",
    "    + 조건은 bool 형태의 데이터 타입이고, `True` 또는 `False`로 표현가능한 것을 의미한다.\n",
    "        - (조건 `and` 조건), (조건 `or` 조건)과 같이 조합해서 사용하는 것이 가능하다.\n",
    "* 조건이 `True`인 경우에 아래 수행문이 실행된 후, 다시 되돌아가 조건을 확인한다.\n",
    "* 조건이 `False`인 경우 반복을 멈추고 다음으로 넘어간다.\n",
    "* 참고로, 조건이 항상 `True`인 경우, 반복문을 멈추게 할 방법이 없기 때문에 __무한루프__ 라고 종종 이야기한다.\n",
    "    + 의도적으로 무한루프를 사용한 것이 아니라면, 조건이 경우에 따라 무한루프에 빠질 가능성은 없는지 각별히 주의해야한다.\n",
    "    + `continue`와 `break`는 `for`문에서와 동일한 방법으로 사용할 수 있고, `break`를 이용해 무한루프를 탈출 가능하다. (아래 예제 참고)"
   ]
  },
  {
   "cell_type": "code",
   "execution_count": 1,
   "metadata": {},
   "outputs": [
    {
     "name": "stdout",
     "output_type": "stream",
     "text": [
      "[1, 2, 3, 4]\n"
     ]
    }
   ],
   "source": [
    "i = [1,2,3,4,-1,5,6,7,8]\n",
    "j = []\n",
    "count=0\n",
    "while(i[count]>0):\n",
    "    j.append(i[count])\n",
    "    count = count + 1\n",
    "print(j)"
   ]
  },
  {
   "cell_type": "markdown",
   "metadata": {},
   "source": [
    "* (간단한 예제) 구구단 (입력을 받아 원하는 구구단을 출력하게 해보자.)"
   ]
  },
  {
   "cell_type": "code",
   "execution_count": 2,
   "metadata": {},
   "outputs": [
    {
     "name": "stdout",
     "output_type": "stream",
     "text": [
      "원하는 단수를 입력하시고, 종료하려면 -1을 입력하세요.\n"
     ]
    },
    {
     "name": "stdin",
     "output_type": "stream",
     "text": [
      " 3\n"
     ]
    },
    {
     "name": "stdout",
     "output_type": "stream",
     "text": [
      "3 x 1 = 3\n",
      "3 x 2 = 6\n",
      "3 x 3 = 9\n",
      "3 x 4 = 12\n",
      "3 x 5 = 15\n",
      "3 x 6 = 18\n",
      "3 x 7 = 21\n",
      "3 x 8 = 24\n",
      "3 x 9 = 27\n"
     ]
    },
    {
     "name": "stdin",
     "output_type": "stream",
     "text": [
      " 4\n"
     ]
    },
    {
     "name": "stdout",
     "output_type": "stream",
     "text": [
      "4 x 1 = 4\n",
      "4 x 2 = 8\n",
      "4 x 3 = 12\n",
      "4 x 4 = 16\n",
      "4 x 5 = 20\n",
      "4 x 6 = 24\n",
      "4 x 7 = 28\n",
      "4 x 8 = 32\n",
      "4 x 9 = 36\n"
     ]
    },
    {
     "name": "stdin",
     "output_type": "stream",
     "text": [
      " -1\n"
     ]
    }
   ],
   "source": [
    "# 프로그램 동작에 관한 정보를 제공한다.\n",
    "print('원하는 단수를 입력하시고, 종료하려면 -1을 입력하세요.')\n",
    "\n",
    "# 의도적으로 무한루프를 활용한다.\n",
    "while(True):\n",
    "    \n",
    "    # 사용자가 정수를 입력해준다고 가정한다.\n",
    "    i = int(input())\n",
    "    \n",
    "    # -1 입력시 반복문을 탈출한다.\n",
    "    if i==-1:\n",
    "        break\n",
    "    \n",
    "    # 출력\n",
    "    for j in range(1,10):\n",
    "        print('%d x %d = %d' % (i, j, i*j))"
   ]
  },
  {
   "cell_type": "markdown",
   "metadata": {},
   "source": [
    "### 4.4 좀 더 복잡한 계산하기 (if)  \n",
    "* `if`문은 어떤 `조건`을 만족할 때 원하는 기능이 수행되게 할 수 있다. (`while`과 달리 반복은 없다.) \n",
    "* 형식\n",
    "```python\n",
    "    if (조건):\n",
    "        수행문\n",
    "        ...\n",
    "    elif (조건):\n",
    "        수행문\n",
    "        ...\n",
    "    else:\n",
    "        수행문\n",
    "        ...\n",
    "```\n",
    "* 조건이 `True`인 경우에 아래 수행문이 실행된다. \n",
    "* 조건이 `False`일 때 한번 더 확인할 조건이 있다면 `elif` 문을 이용한다.\n",
    "* 조건이 `False`인 경우에 실행할 수행문이 있다면, `else` 문 이하에 배치하면 된다. \n",
    "* `if`문의 예제는 이미 위에서 많이 언급되었기에 생략한다."
   ]
  },
  {
   "cell_type": "code",
   "execution_count": null,
   "metadata": {},
   "outputs": [],
   "source": []
  }
 ],
 "metadata": {
  "kernelspec": {
   "display_name": "Python 3",
   "language": "python",
   "name": "python3"
  },
  "language_info": {
   "codemirror_mode": {
    "name": "ipython",
    "version": 3
   },
   "file_extension": ".py",
   "mimetype": "text/x-python",
   "name": "python",
   "nbconvert_exporter": "python",
   "pygments_lexer": "ipython3",
   "version": "3.6.9"
  }
 },
 "nbformat": 4,
 "nbformat_minor": 4
}
